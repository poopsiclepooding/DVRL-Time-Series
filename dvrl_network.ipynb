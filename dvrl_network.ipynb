{
 "cells": [
  {
   "cell_type": "code",
   "execution_count": 1,
   "id": "1dc3c0b6-92cd-4ff8-a3ec-ade82453fafe",
   "metadata": {},
   "outputs": [
    {
     "name": "stdout",
     "output_type": "stream",
     "text": [
      "WARNING:tensorflow:From C:\\Users\\poops\\Desktop\\Coding Shenanigans\\SOIEvent\\Lib\\site-packages\\keras\\src\\losses.py:2976: The name tf.losses.sparse_softmax_cross_entropy is deprecated. Please use tf.compat.v1.losses.sparse_softmax_cross_entropy instead.\n",
      "\n"
     ]
    }
   ],
   "source": [
    "import numpy as np\n",
    "import torch\n",
    "import torch.nn as nn\n",
    "import torch.optim as optim\n",
    "import torch.nn.functional as F\n",
    "from torch.autograd import Variable\n",
    "from torch.utils.data import DataLoader, TensorDataset\n",
    "from torch.utils.tensorboard import SummaryWriter\n",
    "writer = SummaryWriter(log_dir=\"logs\")\n",
    "\n",
    "import math, copy, time\n",
    "import os\n",
    "import pandas as pd\n",
    "import torchinfo\n",
    "\n",
    "import matplotlib.pyplot as plt\n",
    "%matplotlib inline\n",
    "\n",
    "#import warnings\n",
    "#warnings.filterwarnings(\"ignore\")\n",
    "\n",
    "import generate_dataset\n",
    "import lstm_encoder_decoder\n",
    "import plotting "
   ]
  },
  {
   "cell_type": "markdown",
   "id": "a6f68177-09c0-418c-a806-d6a93f15a8a6",
   "metadata": {},
   "source": [
    "## Import Dataset"
   ]
  },
  {
   "cell_type": "markdown",
   "id": "83fad7f1-aae3-4a4d-b61c-f999aa06014f",
   "metadata": {},
   "source": [
    "### Dataset 1"
   ]
  },
  {
   "cell_type": "code",
   "execution_count": 15,
   "id": "a7418122-f40c-4804-8294-f56abcc7d687",
   "metadata": {},
   "outputs": [],
   "source": [
    "pre = os.path.dirname(os.path.abspath('__file__'))\n",
    "post = 'testPuneAQMNew_22.csv'\n",
    "full_path = os.path.join(pre,post)\n",
    "df = pd.read_csv(full_path)"
   ]
  },
  {
   "cell_type": "code",
   "execution_count": 16,
   "id": "b8f6eea7-5068-47f0-8edc-bbf74bdcb25e",
   "metadata": {},
   "outputs": [
    {
     "name": "stdout",
     "output_type": "stream",
     "text": [
      "DataFrame = 16477 rows 19 columns\n"
     ]
    },
    {
     "data": {
      "text/html": [
       "<div>\n",
       "<style scoped>\n",
       "    .dataframe tbody tr th:only-of-type {\n",
       "        vertical-align: middle;\n",
       "    }\n",
       "\n",
       "    .dataframe tbody tr th {\n",
       "        vertical-align: top;\n",
       "    }\n",
       "\n",
       "    .dataframe thead th {\n",
       "        text-align: right;\n",
       "    }\n",
       "</style>\n",
       "<table border=\"1\" class=\"dataframe\">\n",
       "  <thead>\n",
       "    <tr style=\"text-align: right;\">\n",
       "      <th></th>\n",
       "      <th>airQualityLevel</th>\n",
       "      <th>observationDateTime</th>\n",
       "      <th>deviceStatus</th>\n",
       "      <th>aqiMajorPollutant</th>\n",
       "      <th>id</th>\n",
       "      <th>airQualityIndex</th>\n",
       "      <th>uv.avgOverTime</th>\n",
       "      <th>o3.avgOverTime</th>\n",
       "      <th>pm2p5.avgOverTime</th>\n",
       "      <th>co2.avgOverTime</th>\n",
       "      <th>pm10.avgOverTime</th>\n",
       "      <th>co.avgOverTime</th>\n",
       "      <th>no2.avgOverTime</th>\n",
       "      <th>airTemperature.avgOverTime</th>\n",
       "      <th>illuminance.avgOverTime</th>\n",
       "      <th>ambientNoise.avgOverTime</th>\n",
       "      <th>so2.avgOverTime</th>\n",
       "      <th>relativeHumidity.avgOverTime</th>\n",
       "      <th>atmosphericPressure.avgOverTime</th>\n",
       "    </tr>\n",
       "  </thead>\n",
       "  <tbody>\n",
       "    <tr>\n",
       "      <th>0</th>\n",
       "      <td>VERY_POOR</td>\n",
       "      <td>2022-01-01 00:01:08+05:30</td>\n",
       "      <td>ACTIVE</td>\n",
       "      <td>PM2.5</td>\n",
       "      <td>datakaveri.org/04a15c9960ffda227e9546f3f46e629...</td>\n",
       "      <td>349.0</td>\n",
       "      <td>0.0</td>\n",
       "      <td>0.25</td>\n",
       "      <td>201.40</td>\n",
       "      <td>566.82</td>\n",
       "      <td>305.35</td>\n",
       "      <td>3.67</td>\n",
       "      <td>111.35</td>\n",
       "      <td>21.54</td>\n",
       "      <td>1.24</td>\n",
       "      <td>76.16</td>\n",
       "      <td>4.04</td>\n",
       "      <td>77.90</td>\n",
       "      <td>0.94</td>\n",
       "    </tr>\n",
       "    <tr>\n",
       "      <th>1</th>\n",
       "      <td>MODERATE</td>\n",
       "      <td>2022-01-01 00:01:08+05:30</td>\n",
       "      <td>ACTIVE</td>\n",
       "      <td>CO</td>\n",
       "      <td>datakaveri.org/04a15c9960ffda227e9546f3f46e629...</td>\n",
       "      <td>103.0</td>\n",
       "      <td>0.0</td>\n",
       "      <td>29.70</td>\n",
       "      <td>2.96</td>\n",
       "      <td>0.00</td>\n",
       "      <td>3.78</td>\n",
       "      <td>3.36</td>\n",
       "      <td>51.81</td>\n",
       "      <td>19.91</td>\n",
       "      <td>4.08</td>\n",
       "      <td>78.80</td>\n",
       "      <td>3.78</td>\n",
       "      <td>77.22</td>\n",
       "      <td>0.94</td>\n",
       "    </tr>\n",
       "    <tr>\n",
       "      <th>2</th>\n",
       "      <td>SEVERE</td>\n",
       "      <td>2022-01-01 00:01:08+05:30</td>\n",
       "      <td>ACTIVE</td>\n",
       "      <td>PM2.5</td>\n",
       "      <td>datakaveri.org/04a15c9960ffda227e9546f3f46e629...</td>\n",
       "      <td>408.0</td>\n",
       "      <td>0.0</td>\n",
       "      <td>0.00</td>\n",
       "      <td>328.16</td>\n",
       "      <td>675.62</td>\n",
       "      <td>487.34</td>\n",
       "      <td>3.17</td>\n",
       "      <td>58.84</td>\n",
       "      <td>20.79</td>\n",
       "      <td>1.16</td>\n",
       "      <td>62.37</td>\n",
       "      <td>0.21</td>\n",
       "      <td>77.25</td>\n",
       "      <td>0.94</td>\n",
       "    </tr>\n",
       "    <tr>\n",
       "      <th>3</th>\n",
       "      <td>VERY_POOR</td>\n",
       "      <td>2022-01-01 00:01:08+05:30</td>\n",
       "      <td>ACTIVE</td>\n",
       "      <td>PM2.5</td>\n",
       "      <td>datakaveri.org/04a15c9960ffda227e9546f3f46e629...</td>\n",
       "      <td>306.0</td>\n",
       "      <td>0.0</td>\n",
       "      <td>0.00</td>\n",
       "      <td>154.19</td>\n",
       "      <td>73.23</td>\n",
       "      <td>223.55</td>\n",
       "      <td>4.78</td>\n",
       "      <td>68.58</td>\n",
       "      <td>21.54</td>\n",
       "      <td>2.79</td>\n",
       "      <td>77.73</td>\n",
       "      <td>3.62</td>\n",
       "      <td>73.87</td>\n",
       "      <td>0.94</td>\n",
       "    </tr>\n",
       "    <tr>\n",
       "      <th>4</th>\n",
       "      <td>VERY_POOR</td>\n",
       "      <td>2022-01-01 00:01:09+05:30</td>\n",
       "      <td>ACTIVE</td>\n",
       "      <td>PM2.5</td>\n",
       "      <td>datakaveri.org/04a15c9960ffda227e9546f3f46e629...</td>\n",
       "      <td>366.0</td>\n",
       "      <td>0.0</td>\n",
       "      <td>0.00</td>\n",
       "      <td>222.11</td>\n",
       "      <td>315.10</td>\n",
       "      <td>335.07</td>\n",
       "      <td>2.37</td>\n",
       "      <td>64.17</td>\n",
       "      <td>20.91</td>\n",
       "      <td>4.51</td>\n",
       "      <td>75.95</td>\n",
       "      <td>3.13</td>\n",
       "      <td>76.85</td>\n",
       "      <td>0.94</td>\n",
       "    </tr>\n",
       "  </tbody>\n",
       "</table>\n",
       "</div>"
      ],
      "text/plain": [
       "  airQualityLevel        observationDateTime deviceStatus aqiMajorPollutant  \\\n",
       "0       VERY_POOR  2022-01-01 00:01:08+05:30       ACTIVE             PM2.5   \n",
       "1        MODERATE  2022-01-01 00:01:08+05:30       ACTIVE                CO   \n",
       "2          SEVERE  2022-01-01 00:01:08+05:30       ACTIVE             PM2.5   \n",
       "3       VERY_POOR  2022-01-01 00:01:08+05:30       ACTIVE             PM2.5   \n",
       "4       VERY_POOR  2022-01-01 00:01:09+05:30       ACTIVE             PM2.5   \n",
       "\n",
       "                                                  id  airQualityIndex  \\\n",
       "0  datakaveri.org/04a15c9960ffda227e9546f3f46e629...            349.0   \n",
       "1  datakaveri.org/04a15c9960ffda227e9546f3f46e629...            103.0   \n",
       "2  datakaveri.org/04a15c9960ffda227e9546f3f46e629...            408.0   \n",
       "3  datakaveri.org/04a15c9960ffda227e9546f3f46e629...            306.0   \n",
       "4  datakaveri.org/04a15c9960ffda227e9546f3f46e629...            366.0   \n",
       "\n",
       "   uv.avgOverTime  o3.avgOverTime  pm2p5.avgOverTime  co2.avgOverTime  \\\n",
       "0             0.0            0.25             201.40           566.82   \n",
       "1             0.0           29.70               2.96             0.00   \n",
       "2             0.0            0.00             328.16           675.62   \n",
       "3             0.0            0.00             154.19            73.23   \n",
       "4             0.0            0.00             222.11           315.10   \n",
       "\n",
       "   pm10.avgOverTime  co.avgOverTime  no2.avgOverTime  \\\n",
       "0            305.35            3.67           111.35   \n",
       "1              3.78            3.36            51.81   \n",
       "2            487.34            3.17            58.84   \n",
       "3            223.55            4.78            68.58   \n",
       "4            335.07            2.37            64.17   \n",
       "\n",
       "   airTemperature.avgOverTime  illuminance.avgOverTime  \\\n",
       "0                       21.54                     1.24   \n",
       "1                       19.91                     4.08   \n",
       "2                       20.79                     1.16   \n",
       "3                       21.54                     2.79   \n",
       "4                       20.91                     4.51   \n",
       "\n",
       "   ambientNoise.avgOverTime  so2.avgOverTime  relativeHumidity.avgOverTime  \\\n",
       "0                     76.16             4.04                         77.90   \n",
       "1                     78.80             3.78                         77.22   \n",
       "2                     62.37             0.21                         77.25   \n",
       "3                     77.73             3.62                         73.87   \n",
       "4                     75.95             3.13                         76.85   \n",
       "\n",
       "   atmosphericPressure.avgOverTime  \n",
       "0                             0.94  \n",
       "1                             0.94  \n",
       "2                             0.94  \n",
       "3                             0.94  \n",
       "4                             0.94  "
      ]
     },
     "metadata": {},
     "output_type": "display_data"
    }
   ],
   "source": [
    "print(\"DataFrame = {} rows {} columns\".format(*df.shape))\n",
    "display(df.head())"
   ]
  },
  {
   "cell_type": "code",
   "execution_count": 17,
   "id": "afdda6b7-478d-4e14-8281-c67919f8ba2e",
   "metadata": {},
   "outputs": [
    {
     "data": {
      "text/html": [
       "<div>\n",
       "<style scoped>\n",
       "    .dataframe tbody tr th:only-of-type {\n",
       "        vertical-align: middle;\n",
       "    }\n",
       "\n",
       "    .dataframe tbody tr th {\n",
       "        vertical-align: top;\n",
       "    }\n",
       "\n",
       "    .dataframe thead th {\n",
       "        text-align: right;\n",
       "    }\n",
       "</style>\n",
       "<table border=\"1\" class=\"dataframe\">\n",
       "  <thead>\n",
       "    <tr style=\"text-align: right;\">\n",
       "      <th></th>\n",
       "      <th>observationDateTime</th>\n",
       "      <th>deviceStatus</th>\n",
       "      <th>aqiMajorPollutant</th>\n",
       "      <th>id</th>\n",
       "      <th>airQualityIndex</th>\n",
       "      <th>uv.avgOverTime</th>\n",
       "      <th>o3.avgOverTime</th>\n",
       "      <th>pm2p5.avgOverTime</th>\n",
       "      <th>co2.avgOverTime</th>\n",
       "      <th>pm10.avgOverTime</th>\n",
       "      <th>co.avgOverTime</th>\n",
       "      <th>no2.avgOverTime</th>\n",
       "      <th>airTemperature.avgOverTime</th>\n",
       "      <th>illuminance.avgOverTime</th>\n",
       "      <th>ambientNoise.avgOverTime</th>\n",
       "      <th>so2.avgOverTime</th>\n",
       "      <th>relativeHumidity.avgOverTime</th>\n",
       "      <th>atmosphericPressure.avgOverTime</th>\n",
       "      <th>airQualityLevel_encod</th>\n",
       "    </tr>\n",
       "  </thead>\n",
       "  <tbody>\n",
       "    <tr>\n",
       "      <th>0</th>\n",
       "      <td>2022-01-01 00:01:08+05:30</td>\n",
       "      <td>ACTIVE</td>\n",
       "      <td>PM2.5</td>\n",
       "      <td>datakaveri.org/04a15c9960ffda227e9546f3f46e629...</td>\n",
       "      <td>349.0</td>\n",
       "      <td>0.0</td>\n",
       "      <td>0.25</td>\n",
       "      <td>201.40</td>\n",
       "      <td>566.82</td>\n",
       "      <td>305.35</td>\n",
       "      <td>3.67</td>\n",
       "      <td>111.35</td>\n",
       "      <td>21.54</td>\n",
       "      <td>1.24</td>\n",
       "      <td>76.16</td>\n",
       "      <td>4.04</td>\n",
       "      <td>77.90</td>\n",
       "      <td>0.94</td>\n",
       "      <td>4.0</td>\n",
       "    </tr>\n",
       "    <tr>\n",
       "      <th>1</th>\n",
       "      <td>2022-01-01 00:01:08+05:30</td>\n",
       "      <td>ACTIVE</td>\n",
       "      <td>CO</td>\n",
       "      <td>datakaveri.org/04a15c9960ffda227e9546f3f46e629...</td>\n",
       "      <td>103.0</td>\n",
       "      <td>0.0</td>\n",
       "      <td>29.70</td>\n",
       "      <td>2.96</td>\n",
       "      <td>0.00</td>\n",
       "      <td>3.78</td>\n",
       "      <td>3.36</td>\n",
       "      <td>51.81</td>\n",
       "      <td>19.91</td>\n",
       "      <td>4.08</td>\n",
       "      <td>78.80</td>\n",
       "      <td>3.78</td>\n",
       "      <td>77.22</td>\n",
       "      <td>0.94</td>\n",
       "      <td>2.0</td>\n",
       "    </tr>\n",
       "    <tr>\n",
       "      <th>2</th>\n",
       "      <td>2022-01-01 00:01:08+05:30</td>\n",
       "      <td>ACTIVE</td>\n",
       "      <td>PM2.5</td>\n",
       "      <td>datakaveri.org/04a15c9960ffda227e9546f3f46e629...</td>\n",
       "      <td>408.0</td>\n",
       "      <td>0.0</td>\n",
       "      <td>0.00</td>\n",
       "      <td>328.16</td>\n",
       "      <td>675.62</td>\n",
       "      <td>487.34</td>\n",
       "      <td>3.17</td>\n",
       "      <td>58.84</td>\n",
       "      <td>20.79</td>\n",
       "      <td>1.16</td>\n",
       "      <td>62.37</td>\n",
       "      <td>0.21</td>\n",
       "      <td>77.25</td>\n",
       "      <td>0.94</td>\n",
       "      <td>5.0</td>\n",
       "    </tr>\n",
       "    <tr>\n",
       "      <th>3</th>\n",
       "      <td>2022-01-01 00:01:08+05:30</td>\n",
       "      <td>ACTIVE</td>\n",
       "      <td>PM2.5</td>\n",
       "      <td>datakaveri.org/04a15c9960ffda227e9546f3f46e629...</td>\n",
       "      <td>306.0</td>\n",
       "      <td>0.0</td>\n",
       "      <td>0.00</td>\n",
       "      <td>154.19</td>\n",
       "      <td>73.23</td>\n",
       "      <td>223.55</td>\n",
       "      <td>4.78</td>\n",
       "      <td>68.58</td>\n",
       "      <td>21.54</td>\n",
       "      <td>2.79</td>\n",
       "      <td>77.73</td>\n",
       "      <td>3.62</td>\n",
       "      <td>73.87</td>\n",
       "      <td>0.94</td>\n",
       "      <td>4.0</td>\n",
       "    </tr>\n",
       "    <tr>\n",
       "      <th>4</th>\n",
       "      <td>2022-01-01 00:01:09+05:30</td>\n",
       "      <td>ACTIVE</td>\n",
       "      <td>PM2.5</td>\n",
       "      <td>datakaveri.org/04a15c9960ffda227e9546f3f46e629...</td>\n",
       "      <td>366.0</td>\n",
       "      <td>0.0</td>\n",
       "      <td>0.00</td>\n",
       "      <td>222.11</td>\n",
       "      <td>315.10</td>\n",
       "      <td>335.07</td>\n",
       "      <td>2.37</td>\n",
       "      <td>64.17</td>\n",
       "      <td>20.91</td>\n",
       "      <td>4.51</td>\n",
       "      <td>75.95</td>\n",
       "      <td>3.13</td>\n",
       "      <td>76.85</td>\n",
       "      <td>0.94</td>\n",
       "      <td>4.0</td>\n",
       "    </tr>\n",
       "  </tbody>\n",
       "</table>\n",
       "</div>"
      ],
      "text/plain": [
       "         observationDateTime deviceStatus aqiMajorPollutant  \\\n",
       "0  2022-01-01 00:01:08+05:30       ACTIVE             PM2.5   \n",
       "1  2022-01-01 00:01:08+05:30       ACTIVE                CO   \n",
       "2  2022-01-01 00:01:08+05:30       ACTIVE             PM2.5   \n",
       "3  2022-01-01 00:01:08+05:30       ACTIVE             PM2.5   \n",
       "4  2022-01-01 00:01:09+05:30       ACTIVE             PM2.5   \n",
       "\n",
       "                                                  id  airQualityIndex  \\\n",
       "0  datakaveri.org/04a15c9960ffda227e9546f3f46e629...            349.0   \n",
       "1  datakaveri.org/04a15c9960ffda227e9546f3f46e629...            103.0   \n",
       "2  datakaveri.org/04a15c9960ffda227e9546f3f46e629...            408.0   \n",
       "3  datakaveri.org/04a15c9960ffda227e9546f3f46e629...            306.0   \n",
       "4  datakaveri.org/04a15c9960ffda227e9546f3f46e629...            366.0   \n",
       "\n",
       "   uv.avgOverTime  o3.avgOverTime  pm2p5.avgOverTime  co2.avgOverTime  \\\n",
       "0             0.0            0.25             201.40           566.82   \n",
       "1             0.0           29.70               2.96             0.00   \n",
       "2             0.0            0.00             328.16           675.62   \n",
       "3             0.0            0.00             154.19            73.23   \n",
       "4             0.0            0.00             222.11           315.10   \n",
       "\n",
       "   pm10.avgOverTime  co.avgOverTime  no2.avgOverTime  \\\n",
       "0            305.35            3.67           111.35   \n",
       "1              3.78            3.36            51.81   \n",
       "2            487.34            3.17            58.84   \n",
       "3            223.55            4.78            68.58   \n",
       "4            335.07            2.37            64.17   \n",
       "\n",
       "   airTemperature.avgOverTime  illuminance.avgOverTime  \\\n",
       "0                       21.54                     1.24   \n",
       "1                       19.91                     4.08   \n",
       "2                       20.79                     1.16   \n",
       "3                       21.54                     2.79   \n",
       "4                       20.91                     4.51   \n",
       "\n",
       "   ambientNoise.avgOverTime  so2.avgOverTime  relativeHumidity.avgOverTime  \\\n",
       "0                     76.16             4.04                         77.90   \n",
       "1                     78.80             3.78                         77.22   \n",
       "2                     62.37             0.21                         77.25   \n",
       "3                     77.73             3.62                         73.87   \n",
       "4                     75.95             3.13                         76.85   \n",
       "\n",
       "   atmosphericPressure.avgOverTime  airQualityLevel_encod  \n",
       "0                             0.94                    4.0  \n",
       "1                             0.94                    2.0  \n",
       "2                             0.94                    5.0  \n",
       "3                             0.94                    4.0  \n",
       "4                             0.94                    4.0  "
      ]
     },
     "metadata": {},
     "output_type": "display_data"
    }
   ],
   "source": [
    "airQualityLevel_dict = {'SATISFACTORY': 1, 'MODERATE': 2, 'POOR': 3, 'VERY_POOR': 4, 'SEVERE': 5}\n",
    "df['airQualityLevel_encod'] = df.airQualityLevel.map(airQualityLevel_dict)\n",
    "df = df.drop(['airQualityLevel'], axis=1)\n",
    "display(df.head())"
   ]
  },
  {
   "cell_type": "code",
   "execution_count": 18,
   "id": "cabda645-6c7d-4d8e-ae15-23bd4bc98608",
   "metadata": {},
   "outputs": [
    {
     "data": {
      "text/html": [
       "<div>\n",
       "<style scoped>\n",
       "    .dataframe tbody tr th:only-of-type {\n",
       "        vertical-align: middle;\n",
       "    }\n",
       "\n",
       "    .dataframe tbody tr th {\n",
       "        vertical-align: top;\n",
       "    }\n",
       "\n",
       "    .dataframe thead th {\n",
       "        text-align: right;\n",
       "    }\n",
       "</style>\n",
       "<table border=\"1\" class=\"dataframe\">\n",
       "  <thead>\n",
       "    <tr style=\"text-align: right;\">\n",
       "      <th></th>\n",
       "      <th>observationDateTime</th>\n",
       "      <th>deviceStatus</th>\n",
       "      <th>id</th>\n",
       "      <th>airQualityIndex</th>\n",
       "      <th>uv.avgOverTime</th>\n",
       "      <th>o3.avgOverTime</th>\n",
       "      <th>pm2p5.avgOverTime</th>\n",
       "      <th>co2.avgOverTime</th>\n",
       "      <th>pm10.avgOverTime</th>\n",
       "      <th>co.avgOverTime</th>\n",
       "      <th>no2.avgOverTime</th>\n",
       "      <th>airTemperature.avgOverTime</th>\n",
       "      <th>illuminance.avgOverTime</th>\n",
       "      <th>ambientNoise.avgOverTime</th>\n",
       "      <th>so2.avgOverTime</th>\n",
       "      <th>relativeHumidity.avgOverTime</th>\n",
       "      <th>atmosphericPressure.avgOverTime</th>\n",
       "      <th>airQualityLevel_encod</th>\n",
       "      <th>aqiMajorPollutant_encod</th>\n",
       "    </tr>\n",
       "  </thead>\n",
       "  <tbody>\n",
       "    <tr>\n",
       "      <th>0</th>\n",
       "      <td>2022-01-01 00:01:08+05:30</td>\n",
       "      <td>ACTIVE</td>\n",
       "      <td>datakaveri.org/04a15c9960ffda227e9546f3f46e629...</td>\n",
       "      <td>349.0</td>\n",
       "      <td>0.0</td>\n",
       "      <td>0.25</td>\n",
       "      <td>201.40</td>\n",
       "      <td>566.82</td>\n",
       "      <td>305.35</td>\n",
       "      <td>3.67</td>\n",
       "      <td>111.35</td>\n",
       "      <td>21.54</td>\n",
       "      <td>1.24</td>\n",
       "      <td>76.16</td>\n",
       "      <td>4.04</td>\n",
       "      <td>77.90</td>\n",
       "      <td>0.94</td>\n",
       "      <td>4.0</td>\n",
       "      <td>1.0</td>\n",
       "    </tr>\n",
       "    <tr>\n",
       "      <th>1</th>\n",
       "      <td>2022-01-01 00:01:08+05:30</td>\n",
       "      <td>ACTIVE</td>\n",
       "      <td>datakaveri.org/04a15c9960ffda227e9546f3f46e629...</td>\n",
       "      <td>103.0</td>\n",
       "      <td>0.0</td>\n",
       "      <td>29.70</td>\n",
       "      <td>2.96</td>\n",
       "      <td>0.00</td>\n",
       "      <td>3.78</td>\n",
       "      <td>3.36</td>\n",
       "      <td>51.81</td>\n",
       "      <td>19.91</td>\n",
       "      <td>4.08</td>\n",
       "      <td>78.80</td>\n",
       "      <td>3.78</td>\n",
       "      <td>77.22</td>\n",
       "      <td>0.94</td>\n",
       "      <td>2.0</td>\n",
       "      <td>2.0</td>\n",
       "    </tr>\n",
       "    <tr>\n",
       "      <th>2</th>\n",
       "      <td>2022-01-01 00:01:08+05:30</td>\n",
       "      <td>ACTIVE</td>\n",
       "      <td>datakaveri.org/04a15c9960ffda227e9546f3f46e629...</td>\n",
       "      <td>408.0</td>\n",
       "      <td>0.0</td>\n",
       "      <td>0.00</td>\n",
       "      <td>328.16</td>\n",
       "      <td>675.62</td>\n",
       "      <td>487.34</td>\n",
       "      <td>3.17</td>\n",
       "      <td>58.84</td>\n",
       "      <td>20.79</td>\n",
       "      <td>1.16</td>\n",
       "      <td>62.37</td>\n",
       "      <td>0.21</td>\n",
       "      <td>77.25</td>\n",
       "      <td>0.94</td>\n",
       "      <td>5.0</td>\n",
       "      <td>1.0</td>\n",
       "    </tr>\n",
       "    <tr>\n",
       "      <th>3</th>\n",
       "      <td>2022-01-01 00:01:08+05:30</td>\n",
       "      <td>ACTIVE</td>\n",
       "      <td>datakaveri.org/04a15c9960ffda227e9546f3f46e629...</td>\n",
       "      <td>306.0</td>\n",
       "      <td>0.0</td>\n",
       "      <td>0.00</td>\n",
       "      <td>154.19</td>\n",
       "      <td>73.23</td>\n",
       "      <td>223.55</td>\n",
       "      <td>4.78</td>\n",
       "      <td>68.58</td>\n",
       "      <td>21.54</td>\n",
       "      <td>2.79</td>\n",
       "      <td>77.73</td>\n",
       "      <td>3.62</td>\n",
       "      <td>73.87</td>\n",
       "      <td>0.94</td>\n",
       "      <td>4.0</td>\n",
       "      <td>1.0</td>\n",
       "    </tr>\n",
       "    <tr>\n",
       "      <th>4</th>\n",
       "      <td>2022-01-01 00:01:09+05:30</td>\n",
       "      <td>ACTIVE</td>\n",
       "      <td>datakaveri.org/04a15c9960ffda227e9546f3f46e629...</td>\n",
       "      <td>366.0</td>\n",
       "      <td>0.0</td>\n",
       "      <td>0.00</td>\n",
       "      <td>222.11</td>\n",
       "      <td>315.10</td>\n",
       "      <td>335.07</td>\n",
       "      <td>2.37</td>\n",
       "      <td>64.17</td>\n",
       "      <td>20.91</td>\n",
       "      <td>4.51</td>\n",
       "      <td>75.95</td>\n",
       "      <td>3.13</td>\n",
       "      <td>76.85</td>\n",
       "      <td>0.94</td>\n",
       "      <td>4.0</td>\n",
       "      <td>1.0</td>\n",
       "    </tr>\n",
       "  </tbody>\n",
       "</table>\n",
       "</div>"
      ],
      "text/plain": [
       "         observationDateTime deviceStatus  \\\n",
       "0  2022-01-01 00:01:08+05:30       ACTIVE   \n",
       "1  2022-01-01 00:01:08+05:30       ACTIVE   \n",
       "2  2022-01-01 00:01:08+05:30       ACTIVE   \n",
       "3  2022-01-01 00:01:08+05:30       ACTIVE   \n",
       "4  2022-01-01 00:01:09+05:30       ACTIVE   \n",
       "\n",
       "                                                  id  airQualityIndex  \\\n",
       "0  datakaveri.org/04a15c9960ffda227e9546f3f46e629...            349.0   \n",
       "1  datakaveri.org/04a15c9960ffda227e9546f3f46e629...            103.0   \n",
       "2  datakaveri.org/04a15c9960ffda227e9546f3f46e629...            408.0   \n",
       "3  datakaveri.org/04a15c9960ffda227e9546f3f46e629...            306.0   \n",
       "4  datakaveri.org/04a15c9960ffda227e9546f3f46e629...            366.0   \n",
       "\n",
       "   uv.avgOverTime  o3.avgOverTime  pm2p5.avgOverTime  co2.avgOverTime  \\\n",
       "0             0.0            0.25             201.40           566.82   \n",
       "1             0.0           29.70               2.96             0.00   \n",
       "2             0.0            0.00             328.16           675.62   \n",
       "3             0.0            0.00             154.19            73.23   \n",
       "4             0.0            0.00             222.11           315.10   \n",
       "\n",
       "   pm10.avgOverTime  co.avgOverTime  no2.avgOverTime  \\\n",
       "0            305.35            3.67           111.35   \n",
       "1              3.78            3.36            51.81   \n",
       "2            487.34            3.17            58.84   \n",
       "3            223.55            4.78            68.58   \n",
       "4            335.07            2.37            64.17   \n",
       "\n",
       "   airTemperature.avgOverTime  illuminance.avgOverTime  \\\n",
       "0                       21.54                     1.24   \n",
       "1                       19.91                     4.08   \n",
       "2                       20.79                     1.16   \n",
       "3                       21.54                     2.79   \n",
       "4                       20.91                     4.51   \n",
       "\n",
       "   ambientNoise.avgOverTime  so2.avgOverTime  relativeHumidity.avgOverTime  \\\n",
       "0                     76.16             4.04                         77.90   \n",
       "1                     78.80             3.78                         77.22   \n",
       "2                     62.37             0.21                         77.25   \n",
       "3                     77.73             3.62                         73.87   \n",
       "4                     75.95             3.13                         76.85   \n",
       "\n",
       "   atmosphericPressure.avgOverTime  airQualityLevel_encod  \\\n",
       "0                             0.94                    4.0   \n",
       "1                             0.94                    2.0   \n",
       "2                             0.94                    5.0   \n",
       "3                             0.94                    4.0   \n",
       "4                             0.94                    4.0   \n",
       "\n",
       "   aqiMajorPollutant_encod  \n",
       "0                      1.0  \n",
       "1                      2.0  \n",
       "2                      1.0  \n",
       "3                      1.0  \n",
       "4                      1.0  "
      ]
     },
     "metadata": {},
     "output_type": "display_data"
    }
   ],
   "source": [
    "aqiMajorPollutant_dict = {'PM2.5': 1, 'CO': 2, 'NO2': 3}\n",
    "df['aqiMajorPollutant_encod'] = df.aqiMajorPollutant.map(aqiMajorPollutant_dict)\n",
    "df = df.drop(['aqiMajorPollutant'], axis=1)\n",
    "display(df.head())"
   ]
  },
  {
   "cell_type": "code",
   "execution_count": 19,
   "id": "dafbd53d-0a35-4b0d-8924-7f14bd0554a3",
   "metadata": {},
   "outputs": [],
   "source": [
    "features_considered = ['airQualityLevel_encod', 'aqiMajorPollutant_encod','airQualityIndex','uv.avgOverTime',\n",
    "                       'o3.avgOverTime','pm2p5.avgOverTime','co2.avgOverTime','pm10.avgOverTime','co.avgOverTime','no2.avgOverTime',\n",
    "                       'airTemperature.avgOverTime','illuminance.avgOverTime','ambientNoise.avgOverTime','so2.avgOverTime',\n",
    "                       'relativeHumidity.avgOverTime','atmosphericPressure.avgOverTime']\n",
    "features = df[features_considered]\n",
    "features.index = df['observationDateTime']"
   ]
  },
  {
   "cell_type": "code",
   "execution_count": 20,
   "id": "bd5b266a-6aee-4b29-aa8d-60bac60194b3",
   "metadata": {},
   "outputs": [
    {
     "name": "stdout",
     "output_type": "stream",
     "text": [
      "Shape : (16477, 16), Data Type : float64\n"
     ]
    }
   ],
   "source": [
    "dataset1 = features.values\n",
    "print(f\"Shape : {dataset1.shape}, Data Type : {dataset1.dtype}\")"
   ]
  },
  {
   "cell_type": "markdown",
   "id": "aaf4f83d-3eba-4bf1-84fb-7160508daa61",
   "metadata": {},
   "source": [
    "### Dataset 2 "
   ]
  },
  {
   "cell_type": "code",
   "execution_count": 21,
   "id": "6d30ad57-cfc0-4a76-828b-62e0ca5e529d",
   "metadata": {},
   "outputs": [
    {
     "data": {
      "text/plain": [
       "torch.Size([2701, 4])"
      ]
     },
     "execution_count": 21,
     "metadata": {},
     "output_type": "execute_result"
    }
   ],
   "source": [
    "x = torch.tensor([2, 4, 5, 7, 8, 10, 11, 13, 14, 16, 17, 19, 20, 18, 17, 15, 14, 12, 11, 9, 8, 6, 5, 3, 2, 0, 1]).view(27,1)\n",
    "y = torch.tensor([1]).view(1,1)\n",
    "for i in range(100):\n",
    "    y = torch.cat((y,x), dim=0)\n",
    "\n",
    "for j in range(2):\n",
    "    y = torch.cat((y,y), dim=1)\n",
    "\n",
    "y.shape"
   ]
  },
  {
   "cell_type": "code",
   "execution_count": 22,
   "id": "71c1d9b2-cee7-44e0-9454-bd82e83b5a19",
   "metadata": {},
   "outputs": [
    {
     "name": "stdout",
     "output_type": "stream",
     "text": [
      "Shape : (2701, 4), Data Type : float64\n"
     ]
    }
   ],
   "source": [
    "dataset2 = y.numpy().astype(np.float64)\n",
    "print(f\"Shape : {dataset2.shape}, Data Type : {dataset2.dtype}\")"
   ]
  },
  {
   "cell_type": "code",
   "execution_count": 23,
   "id": "a00789c2-fbaf-44d6-97ae-a20919976974",
   "metadata": {},
   "outputs": [
    {
     "data": {
      "text/plain": [
       "<function matplotlib.pyplot.show(close=None, block=None)>"
      ]
     },
     "execution_count": 23,
     "metadata": {},
     "output_type": "execute_result"
    },
    {
     "data": {
      "image/png": "[encoded data removed]",
      "text/plain": [
       "<Figure size 640x480 with 1 Axes>"
      ]
     },
     "metadata": {},
     "output_type": "display_data"
    }
   ],
   "source": [
    "plt.plot(dataset2[1:50,2])\n",
    "plt.show"
   ]
  },
  {
   "cell_type": "markdown",
   "id": "06e870a9-6846-4ad7-ab90-0ce74dc6bca8",
   "metadata": {},
   "source": [
    "### Corrupt Data"
   ]
  },
  {
   "cell_type": "code",
   "execution_count": 24,
   "id": "8a316761-dc2f-46f4-abb0-a194aba7152c",
   "metadata": {},
   "outputs": [
    {
     "data": {
      "text/plain": [
       "<function matplotlib.pyplot.show(close=None, block=None)>"
      ]
     },
     "execution_count": 24,
     "metadata": {},
     "output_type": "execute_result"
    },
    {
     "data": {
      "image/png": "[encoded data removed]",
      "text/plain": [
       "<Figure size 640x480 with 1 Axes>"
      ]
     },
     "metadata": {},
     "output_type": "display_data"
    }
   ],
   "source": [
    "dataset2[100:102] += 30\n",
    "dataset2[400:410] += 15\n",
    "plt.plot(dataset2[:,2])\n",
    "plt.show"
   ]
  },
  {
   "cell_type": "markdown",
   "id": "98ef72e4-279e-4e9c-a5ba-f83389a33072",
   "metadata": {},
   "source": [
    "## Training And Validation Data"
   ]
  },
  {
   "cell_type": "code",
   "execution_count": 25,
   "id": "2cb04e03-cdc8-4f93-b8d1-cce4b6f7fec6",
   "metadata": {},
   "outputs": [],
   "source": [
    "def multivariate_data(dataset, target, start_index, end_index, history_size,\n",
    "                      target_size, step, single_step=False):\n",
    "    data = []\n",
    "    labels = []\n",
    "\n",
    "    start_index = start_index + history_size\n",
    "    if end_index is None:\n",
    "        end_index = len(dataset) - target_size\n",
    "\n",
    "    for i in range(start_index, end_index):\n",
    "        indices = range(i-history_size, i, step)\n",
    "        data.append(dataset[indices])\n",
    "\n",
    "        if single_step:\n",
    "            labels.append(target[i+target_size])\n",
    "        else:\n",
    "            labels.append(target[i:i+target_size])\n",
    "\n",
    "    return np.array(data), np.array(labels)"
   ]
  },
  {
   "cell_type": "code",
   "execution_count": 26,
   "id": "7ad22765-6a64-4960-997a-77e047fba41b",
   "metadata": {},
   "outputs": [
    {
     "name": "stdout",
     "output_type": "stream",
     "text": [
      "(980, 20, 4)\n",
      "(980, 10, 4)\n",
      "Input size : (20, 4)\n",
      "Target size to predict : (10, 4)\n"
     ]
    }
   ],
   "source": [
    "train_split = 1000\n",
    "lookback = 20\n",
    "lookahead = 10\n",
    "step = 1\n",
    "batch_size = 45\n",
    "\n",
    "x_train_multi, y_train_multi = multivariate_data(dataset2, dataset2, 0,\n",
    "                                                 train_split, lookback,\n",
    "                                                 lookahead, step)\n",
    "x_val_multi, y_val_multi = multivariate_data(dataset2, dataset2,\n",
    "                                             train_split, 1500, lookback,\n",
    "                                             lookahead, step)\n",
    "\n",
    "print (x_train_multi.shape,\n",
    "       y_train_multi.shape,\n",
    "       'Input size : {}'.format(x_train_multi[0].shape),\n",
    "       'Target size to predict : {}'.format(y_train_multi[0].shape),\n",
    "       sep='\\n')"
   ]
  },
  {
   "cell_type": "code",
   "execution_count": 27,
   "id": "587b9e96-81f0-41cb-bdf9-c334300e332d",
   "metadata": {},
   "outputs": [
    {
     "name": "stdout",
     "output_type": "stream",
     "text": [
      "X Train Shape : torch.Size([980, 20])\n",
      "Y Train Shape : torch.Size([980, 10])\n",
      "X Valid Shape : torch.Size([20, 99, 1])\n",
      "Y Valid Shape : torch.Size([10, 99, 1])\n"
     ]
    }
   ],
   "source": [
    "#Extracting a single column for univariante time series\n",
    "x_train = torch.from_numpy(x_train_multi[:,:,2])\n",
    "y_train = torch.from_numpy(y_train_multi[:,:,2])\n",
    "x_valid = torch.from_numpy(x_val_multi[1:100,:,2])\n",
    "y_valid = torch.from_numpy(y_val_multi[1:100,:,2])\n",
    "\n",
    "x_valid = torch.unsqueeze(x_valid,2)\n",
    "x_valid = x_valid.transpose(1,0).float()\n",
    "\n",
    "y_valid = torch.unsqueeze(y_valid,2)\n",
    "y_valid = y_valid.transpose(1,0).float()\n",
    "print(f\"X Train Shape : {x_train.shape}\")\n",
    "print(f\"Y Train Shape : {y_train.shape}\")\n",
    "print(f\"X Valid Shape : {x_valid.shape}\")\n",
    "print(f\"Y Valid Shape : {y_valid.shape}\")"
   ]
  },
  {
   "cell_type": "markdown",
   "id": "b3498267-4235-4ee2-81d9-aeec8abb9299",
   "metadata": {},
   "source": [
    "## Functions"
   ]
  },
  {
   "cell_type": "code",
   "execution_count": 28,
   "id": "55cdefb4-17db-4326-908b-8c4fc1cd8292",
   "metadata": {},
   "outputs": [],
   "source": [
    "def clones(module, N):\n",
    "    \"Produce N identical layers.\"\n",
    "    return nn.ModuleList([copy.deepcopy(module) for _ in range(N)])"
   ]
  },
  {
   "cell_type": "code",
   "execution_count": 29,
   "id": "e31f3d95-6bf3-4910-943d-e94a5a48d951",
   "metadata": {},
   "outputs": [],
   "source": [
    "class FeedForward(nn.Module):\n",
    "    \"Implements FFN equation.\"\n",
    "    def __init__(self, d_model, d_ff, dropout=0.1):\n",
    "        super(FeedForward, self).__init__()\n",
    "        self.w_1 = nn.Linear(d_model, d_ff, bias=True)\n",
    "        self.w_2 = nn.Linear(d_ff, d_model, bias=True)\n",
    "        #self.dropout = nn.Dropout(dropout)\n",
    "        #self.norm = LayerNorm(d_model)\n",
    "\n",
    "    def forward(self, x):\n",
    "        return self.w_2(F.relu(self.w_1(x.to(torch.float32))))"
   ]
  },
  {
   "cell_type": "code",
   "execution_count": 30,
   "id": "fd8802c7-421c-486e-a4e1-72c2a14b48ef",
   "metadata": {},
   "outputs": [],
   "source": [
    "def SpecialConcat(input1, input2):\n",
    "    \"If all are zero it returns true\"\n",
    "    if not (torch.is_nonzero(torch.any(input1))):\n",
    "        return input2\n",
    "    return torch.cat((input1, input2), 1)"
   ]
  },
  {
   "cell_type": "code",
   "execution_count": 31,
   "id": "e8fccc1e-6395-4147-967f-dc74fba37eb1",
   "metadata": {},
   "outputs": [],
   "source": [
    "def MovingBatch(x_train, y_train, time_window_size, T):\n",
    "    return x_train[T:T+time_window_size], y_train[T:T+time_window_size]"
   ]
  },
  {
   "cell_type": "code",
   "execution_count": 32,
   "id": "7ebecee0-e12a-44e8-a436-519b80192da2",
   "metadata": {},
   "outputs": [],
   "source": [
    "g = torch.Generator().manual_seed(2147483647)"
   ]
  },
  {
   "cell_type": "markdown",
   "id": "a8755561-0d55-4879-8da8-f7a50312be1d",
   "metadata": {},
   "source": [
    "## Modules"
   ]
  },
  {
   "cell_type": "code",
   "execution_count": 33,
   "id": "26e1172e-c0f7-4782-8960-6c2e58d525e9",
   "metadata": {},
   "outputs": [],
   "source": [
    "# class Data_Valuator_MLP(nn.Module):\n",
    "#     def __init__(self, d_model, d_ff):\n",
    "#         \"d_model is same as lookback\"\n",
    "#         super(Data_Valuator_MLP, self).__init__()\n",
    "\n",
    "#         self.layers1 = clones(FeedForward(d_model, d_ff), 2)\n",
    "#         self.layers2 = clones(FeedForward(d_model, 32), 1)\n",
    "#         self.layers3 = clones(FeedForward(d_model, 16), 1)\n",
    "#         self.layers4 = clones(FeedForward(d_model, 8), 1)\n",
    "#         self.prob = nn.Linear(d_model, 1, bias = True)\n",
    "\n",
    "#     def forward(self, x):\n",
    "#         for layers in self.layers1:\n",
    "#             x = layers(x)         #b\n",
    "#         for layers in self.layers2:\n",
    "#             x = layers(x)\n",
    "#         for layers in self.layers3:\n",
    "#             x = layers(x)\n",
    "#         for layers in self.layers4:\n",
    "#             x = layers(x)\n",
    "#         return F.sigmoid(self.prob(x))"
   ]
  },
  {
   "cell_type": "code",
   "execution_count": 34,
   "id": "18263dc5-d513-43a8-81e8-065de9ac13c1",
   "metadata": {},
   "outputs": [],
   "source": [
    "class Data_Valuator_MLP(nn.Module):\n",
    "    def __init__(self, d_model, d_ff):\n",
    "        \"d_model is same as lookback\"\n",
    "        super(Data_Valuator_MLP, self).__init__()\n",
    "\n",
    "        self.layer = nn.Sequential(\n",
    "                        nn.Linear(d_model, d_ff, bias = True),\n",
    "                        nn.ReLU(),\n",
    "                        nn.Linear(d_ff, 128, bias = True),\n",
    "                        nn.ReLU(),\n",
    "                        nn.Linear(128, 64, bias = True),\n",
    "                        nn.ReLU(),\n",
    "                        nn.Linear(64, 32, bias = True),\n",
    "                        nn.ReLU(),\n",
    "                        nn.Linear(32, 16, bias = True),\n",
    "                        nn.ReLU(),\n",
    "                        nn.Linear(16, 1, bias = True),\n",
    "                        nn.Sigmoid()\n",
    "        )\n",
    "\n",
    "    def forward(self, x):\n",
    "        return self.layer(x.to(torch.float32))"
   ]
  },
  {
   "cell_type": "code",
   "execution_count": 35,
   "id": "1c4110ed-bfbc-4ef3-944d-077d83e09826",
   "metadata": {},
   "outputs": [],
   "source": [
    "def SelectionFromProb(prob):\n",
    "    return torch.bernoulli(prob, generator = g)"
   ]
  },
  {
   "cell_type": "code",
   "execution_count": 36,
   "id": "8a60d963-e0c0-44af-90eb-0d529a1df70f",
   "metadata": {},
   "outputs": [],
   "source": [
    "def SelectBatches(x, y, prob):\n",
    "    #Generate The Batch\n",
    "    x_bat_zero = x*prob\n",
    "    y_bat_zero = y*prob\n",
    "\n",
    "    #Removing The Zeroes\n",
    "    x_non_empty_mask = x_bat_zero.abs().sum(dim=1).bool()\n",
    "    y_non_empty_mask = y_bat_zero.abs().sum(dim=1).bool()\n",
    "\n",
    "    x_batch = x_bat_zero[x_non_empty_mask,:]\n",
    "    y_batch = y_bat_zero[y_non_empty_mask,:]\n",
    "\n",
    "    return x_batch, y_batch"
   ]
  },
  {
   "cell_type": "code",
   "execution_count": 37,
   "id": "fe1fab21-4635-4d40-8f9f-140a4f8fe5f7",
   "metadata": {},
   "outputs": [],
   "source": [
    "# class DataValuator(nn.ModuleList):\n",
    "#     def __init__(self, data_valuator_mlp):\n",
    "#         super(DataValuator, self).__init__()\n",
    "#         self.data_valuator_mlp = data_valuator_mlp\n",
    "\n",
    "#     def forward(self, x, y):\n",
    "#         input = torch.cat((x,y), 1)\n",
    "#         prob = self.data_valuator_mlp(input)\n",
    "#         select = SelectionFromProb(prob)\n",
    "#         #prob.requires_grad = False\n",
    "#         x1, y1 = SelectBatches(x, y, select)\n",
    "#         return x1, y1, select, prob"
   ]
  },
  {
   "cell_type": "code",
   "execution_count": 38,
   "id": "046667d5-644c-4652-a772-8690d7945679",
   "metadata": {},
   "outputs": [
    {
     "name": "stdout",
     "output_type": "stream",
     "text": [
      "tensor([0.2500, 0.2500])\n"
     ]
    }
   ],
   "source": [
    "x = torch.tensor([1, 1], dtype=torch.float32, requires_grad=True)\n",
    "y = torch.tensor([1, 1], dtype=torch.float32, requires_grad=True)\n",
    "input = torch.cat((x,y), 0)\n",
    "w = input.mean()\n",
    "w.backward()\n",
    "print(x.grad)"
   ]
  },
  {
   "cell_type": "code",
   "execution_count": 39,
   "id": "83c4ad56-1b2c-4686-a360-118fb9f02d0a",
   "metadata": {},
   "outputs": [],
   "source": [
    "def make_model(lookback = lookback, lookahead = lookahead, datavaluator_hidden = 64):\n",
    "    \"Helper: Construct a model from hyperparameters.\"\n",
    "    #c = copy.deepcopy\n",
    "    #data_valuator_mlp = Data_Valuator_MLP(lookback+lookahead, datavaluator_hidden)\n",
    "\n",
    "    model_1 = Data_Valuator_MLP(lookback+lookahead, datavaluator_hidden)\n",
    "\n",
    "    return model_1"
   ]
  },
  {
   "cell_type": "markdown",
   "id": "71171857-f586-446a-9f43-ec5a932818db",
   "metadata": {},
   "source": [
    "## Losses"
   ]
  },
  {
   "cell_type": "code",
   "execution_count": 40,
   "id": "915a6807-fb33-4a8c-aed4-cae29c941417",
   "metadata": {},
   "outputs": [],
   "source": [
    "def MAL(val_loss, T, prev_avg):\n",
    "    return ((T-1.0)/T)*prev_avg + (1/T)*val_loss"
   ]
  },
  {
   "cell_type": "code",
   "execution_count": 41,
   "id": "11cd1125-d2d2-4e10-bda2-88b500c8aec3",
   "metadata": {},
   "outputs": [],
   "source": [
    "def DataValuator_LogPi(selection_vector, prob_vector):\n",
    "    log_pi_list = []\n",
    "    for i in range(selection_vector.shape[0]):\n",
    "        if torch.is_nonzero(selection_vector[i] == 1):\n",
    "            log_pi_list.append(prob_vector[i].log())\n",
    "        else:\n",
    "            log_pi_list.append((1 - prob_vector[i]).log())\n",
    "    log_pi = torch.sum(torch.stack(log_pi_list))\n",
    "    return log_pi"
   ]
  },
  {
   "cell_type": "code",
   "execution_count": 42,
   "id": "ece1d903-de12-4b99-bfb2-43a63bdd7d12",
   "metadata": {},
   "outputs": [],
   "source": [
    "def DataValuator_Train(model, log_pi, reward):\n",
    "    log_pi.backward()\n",
    "    for p in model.parameters():\n",
    "        p.data.add(reward * p.grad.data, alpha=0.5)  #Beta = 0.001\n",
    "        if p.grad is not None:\n",
    "            p.grad.zero_()\n",
    "    return 0"
   ]
  },
  {
   "cell_type": "markdown",
   "id": "535b6149-84da-4eb9-8f1c-3c12d6de6c05",
   "metadata": {},
   "source": [
    "## Forward And Backward Pass"
   ]
  },
  {
   "cell_type": "code",
   "execution_count": 43,
   "id": "e24a32aa-2737-4ce6-b56c-1d397f76b6ac",
   "metadata": {},
   "outputs": [],
   "source": [
    "model_1 = make_model()\n",
    "moving_avg_loss = 0\n",
    "criterion = nn.MSELoss()"
   ]
  },
  {
   "cell_type": "code",
   "execution_count": 44,
   "id": "d0e66996-3d6a-4fe3-b3ae-4f7f83461ba9",
   "metadata": {},
   "outputs": [
    {
     "data": {
      "text/plain": [
       "============================================================================================================================================\n",
       "Layer (type:depth-idx)                   Input Shape               Output Shape              Param #                   Trainable\n",
       "============================================================================================================================================\n",
       "Data_Valuator_MLP                        [45, 30]                  [45, 1]                   --                        True\n",
       "├─Sequential: 1-1                        [45, 30]                  [45, 1]                   --                        True\n",
       "│    └─Linear: 2-1                       [45, 30]                  [45, 64]                  1,984                     True\n",
       "│    └─ReLU: 2-2                         [45, 64]                  [45, 64]                  --                        --\n",
       "│    └─Linear: 2-3                       [45, 64]                  [45, 128]                 8,320                     True\n",
       "│    └─ReLU: 2-4                         [45, 128]                 [45, 128]                 --                        --\n",
       "│    └─Linear: 2-5                       [45, 128]                 [45, 64]                  8,256                     True\n",
       "│    └─ReLU: 2-6                         [45, 64]                  [45, 64]                  --                        --\n",
       "│    └─Linear: 2-7                       [45, 64]                  [45, 32]                  2,080                     True\n",
       "│    └─ReLU: 2-8                         [45, 32]                  [45, 32]                  --                        --\n",
       "│    └─Linear: 2-9                       [45, 32]                  [45, 16]                  528                       True\n",
       "│    └─ReLU: 2-10                        [45, 16]                  [45, 16]                  --                        --\n",
       "│    └─Linear: 2-11                      [45, 16]                  [45, 1]                   17                        True\n",
       "│    └─Sigmoid: 2-12                     [45, 1]                   [45, 1]                   --                        --\n",
       "============================================================================================================================================\n",
       "Total params: 21,185\n",
       "Trainable params: 21,185\n",
       "Non-trainable params: 0\n",
       "Total mult-adds (Units.MEGABYTES): 0.95\n",
       "============================================================================================================================================\n",
       "Input size (MB): 0.01\n",
       "Forward/backward pass size (MB): 0.11\n",
       "Params size (MB): 0.08\n",
       "Estimated Total Size (MB): 0.21\n",
       "============================================================================================================================================"
      ]
     },
     "execution_count": 44,
     "metadata": {},
     "output_type": "execute_result"
    }
   ],
   "source": [
    "torchinfo.summary(model_1, [(batch_size, lookback + lookahead)], dtypes=[torch.float64, torch.float64], col_names=[\"input_size\", \"output_size\", \n",
    "                                                                                                 \"num_params\", \"trainable\"])"
   ]
  },
  {
   "cell_type": "code",
   "execution_count": 45,
   "id": "7e1ac7ac-726b-458b-bdee-17c933e6ed0f",
   "metadata": {},
   "outputs": [],
   "source": [
    "for p in model_1.parameters():\n",
    "    p.requires_grad = True #False\n",
    "\n",
    "time_window_size = 45\n",
    "reward = -10\n",
    "mov_avg_plot = []\n",
    "reward_plot = []\n",
    "curr_loss_plot = []\n",
    "iteration = []"
   ]
  },
  {
   "cell_type": "code",
   "execution_count": 46,
   "id": "9aaeb107-a042-4ade-bb1c-dc33821c1a96",
   "metadata": {},
   "outputs": [
    {
     "name": "stdout",
     "output_type": "stream",
     "text": [
      "None\n",
      "None\n",
      "None\n",
      "None\n",
      "None\n",
      "None\n",
      "None\n",
      "None\n",
      "None\n",
      "None\n",
      "None\n",
      "None\n"
     ]
    }
   ],
   "source": [
    "for p in model_1.parameters():\n",
    "    print(p.grad)"
   ]
  },
  {
   "cell_type": "code",
   "execution_count": 47,
   "id": "c489d9ce-f8c3-4f1e-b628-b3b8070e5e4a",
   "metadata": {},
   "outputs": [
    {
     "name": "stdout",
     "output_type": "stream",
     "text": [
      "curr_loss = 133.49302673339844, mov_avg = 133.49302673339844, reward = -10\n",
      "curr_loss = 18.740432739257812, mov_avg = 32.82514953613281, reward = -14.084716796875\n",
      "curr_loss = 9.315237998962402, mov_avg = 21.695547103881836, reward = -12.380309104919434\n",
      "curr_loss = 5.091611385345459, mov_avg = 16.542236328125, reward = -11.450624465942383\n",
      "curr_loss = 18.678462982177734, mov_avg = 16.11008644104004, reward = 2.5683765411376953\n",
      "curr_loss = 4.958771228790283, mov_avg = 14.144242286682129, reward = -9.185470581054688\n",
      "curr_loss = 2.306922435760498, mov_avg = 12.459944725036621, reward = -10.153022766113281\n",
      "curr_loss = 2.2322139739990234, mov_avg = 11.161689758300781, reward = -8.929475784301758\n",
      "curr_loss = 3.3359620571136475, mov_avg = 10.165467262268066, reward = -6.82950496673584\n",
      "curr_loss = 2.687262535095215, mov_avg = 9.36677074432373, reward = -6.679508209228516\n",
      "curr_loss = 2.980140447616577, mov_avg = 2.980140447616577, reward = -10\n",
      "curr_loss = 1.307098388671875, mov_avg = 6.01977014541626, reward = -4.712671756744385\n",
      "curr_loss = 3.117771625518799, mov_avg = 4.196643829345703, reward = -1.0788722038269043\n",
      "curr_loss = 0.9491249918937683, mov_avg = 3.444887161254883, reward = -2.4957621097564697\n",
      "curr_loss = 1.6454709768295288, mov_avg = 5.988278865814209, reward = -4.342807769775391\n",
      "curr_loss = 2.048839807510376, mov_avg = 5.329008102416992, reward = -3.280168294906616\n",
      "curr_loss = 1.1215306520462036, mov_avg = 4.742352485656738, reward = -3.620821952819824\n",
      "curr_loss = 1.548195481300354, mov_avg = 4.289122581481934, reward = -2.740927219390869\n",
      "curr_loss = 1.2429534196853638, mov_avg = 3.929945230484009, reward = -2.6869916915893555\n",
      "curr_loss = 1.36538827419281, mov_avg = 3.631897211074829, reward = -2.2665090560913086\n",
      "curr_loss = 1.3138067722320557, mov_avg = 1.3138067722320557, reward = -10\n",
      "curr_loss = 1.076334834098816, mov_avg = 4.4136962890625, reward = -3.3373613357543945\n",
      "curr_loss = 0.8190340399742126, mov_avg = 2.7079429626464844, reward = -1.888908863067627\n",
      "curr_loss = 0.8992130756378174, mov_avg = 2.0902810096740723, reward = -1.1910679340362549\n",
      "curr_loss = 2.6407511234283447, mov_avg = 5.042071342468262, reward = -2.401320219039917\n",
      "curr_loss = 1.034039855003357, mov_avg = 4.289915561676025, reward = -3.255875587463379\n",
      "curr_loss = 0.6853306293487549, mov_avg = 3.7248919010162354, reward = -3.0395612716674805\n",
      "curr_loss = 1.0804616212844849, mov_avg = 3.3227663040161133, reward = -2.242304801940918\n",
      "curr_loss = 0.6585461497306824, mov_avg = 2.994244337081909, reward = -2.335698127746582\n",
      "curr_loss = 0.35033249855041504, mov_avg = 2.7230141162872314, reward = -2.3726816177368164\n"
     ]
    }
   ],
   "source": [
    "reward = 0\n",
    "model_4 = lstm_encoder_decoder.lstm_seq2seq(input_size = 1, hidden_size = 32)\n",
    "num_eons = 3\n",
    "for i in range(num_eons):\n",
    "    for T in range(1000):\n",
    "        \n",
    "        #Make Time Window Batches\n",
    "        if T == 980:\n",
    "            break\n",
    "        x_batch, y_batch = MovingBatch(x_train, y_train, time_window_size, T)\n",
    "        #Pass Throught Data Valuator MLP\n",
    "        input = torch.cat((x_batch,y_batch), 1)\n",
    "        prob_vector = model_1.forward(input)\n",
    "        select = SelectionFromProb(prob_vector)\n",
    "        select_for_lstm = select.clone().detach()\n",
    "        x_selected_batch, y_selected_batch = SelectBatches(x_batch, y_batch, select_for_lstm)\n",
    "        if torch.all(select==0).item():\n",
    "            continue\n",
    "        #Reshape For LSTM\n",
    "        x_selected_batch = torch.unsqueeze(x_selected_batch,2)\n",
    "        x_selected_batch = x_selected_batch.transpose(1,0).float()\n",
    "        y_selected_batch = torch.unsqueeze(y_selected_batch,2)\n",
    "        y_selected_batch = y_selected_batch.transpose(1,0).float()\n",
    "        #Pass Through LSTM\n",
    "        loss = model_4.train_model(x_selected_batch, y_selected_batch, n_epochs = 1, target_len = 10, batch_size = x_selected_batch.shape[1], \n",
    "                             training_prediction = 'mixed_teacher_forcing', teacher_forcing_ratio = 0.6, learning_rate = 0.01, dynamic_tf = False)\n",
    "        curr_lossi = lstm_encoder_decoder.predict_loss(model_4, x_valid, y_valid)\n",
    "        curr_loss = torch.tensor(curr_lossi)\n",
    "        #Update The Moving Average\n",
    "        moving_avg_loss = MAL(curr_loss, T+1, moving_avg_loss)\n",
    "        #Determine The Log_Pi Loss And Reward Scale\n",
    "        reward = curr_loss - moving_avg_loss\n",
    "        data_valuator_loss = DataValuator_LogPi(select, prob_vector)\n",
    "        if torch.eq(reward,0).item():\n",
    "            reward = torch.tensor(-10)\n",
    "        #Update The Data Valuator Parameters\n",
    "        reward_for_data = reward.clone().detach()\n",
    "        DataValuator_Train(model_1, data_valuator_loss, reward_for_data)\n",
    "        mov_avg_plot.append(moving_avg_loss)\n",
    "        reward_plot.append(reward)\n",
    "        curr_loss_plot.append(curr_loss)\n",
    "        iteration.append(T)\n",
    "        writer.add_scalar(\"Loss/curr\", curr_loss, T)\n",
    "        writer.add_scalar(\"Loss/avg\", moving_avg_loss, T)\n",
    "        if T%100 == 0:\n",
    "            print(f\"curr_loss = {curr_loss}, mov_avg = {moving_avg_loss}, reward = {reward}\")"
   ]
  },
  {
   "cell_type": "code",
   "execution_count": 39,
   "id": "2268c82d-4581-4b0b-9bb3-f06a2fd1a9b4",
   "metadata": {},
   "outputs": [
    {
     "data": {
      "image/png": "[encoded data removed]",
      "text/plain": [
       "<Figure size 640x480 with 1 Axes>"
      ]
     },
     "metadata": {},
     "output_type": "display_data"
    }
   ],
   "source": [
    "curr_loss_plot_list = [tensor for tensor in curr_loss_plot]\n",
    "#reward_plot_list = [tensor.item() for tensor in reward_plot]\n",
    "mov_avg_plot_list = [tensor for tensor in mov_avg_plot]\n",
    "iteration_plot_list = iteration\n",
    "plt.plot(iteration, curr_loss_plot_list, label='Current Loss')\n",
    "plt.plot(iteration, mov_avg_plot_list, label='Moving Avg Loss')\n",
    "#plt.plot(iteration, reward_plot_list, label='Reward')\n",
    "#plt.plot(iteration, x_train[0:800,2], label='Dataset')\n",
    "plt.legend()\n",
    "plt.show()"
   ]
  },
  {
   "cell_type": "markdown",
   "id": "3e34720e-6a8d-4531-9698-ddff4be49ace",
   "metadata": {},
   "source": [
    "## Test Model"
   ]
  },
  {
   "cell_type": "code",
   "execution_count": 43,
   "id": "81afa8c8-b6d2-4e24-9780-5c89e97d9262",
   "metadata": {},
   "outputs": [
    {
     "data": {
      "text/plain": [
       "torch.Size([980, 1])"
      ]
     },
     "execution_count": 43,
     "metadata": {},
     "output_type": "execute_result"
    }
   ],
   "source": [
    "data_values = torch.zeros_like(x_train)[:,0].view(len(x_train),1)\n",
    "data_values.shape"
   ]
  },
  {
   "cell_type": "code",
   "execution_count": 44,
   "id": "b44fd573-3879-4c27-a290-2eb4d0c13cd9",
   "metadata": {},
   "outputs": [],
   "source": [
    "time_window_size = 45\n",
    "with torch.no_grad():\n",
    "    for T in range(10000):\n",
    "        #Make Time Window Batches\n",
    "        if T == 980:\n",
    "            break\n",
    "        x_batch, y_batch = MovingBatch(x_train, y_train, time_window_size, T)\n",
    "        #Pass Throught Data Valuator MLP\n",
    "        input = torch.cat((x_batch,y_batch), 1)\n",
    "        prob_vector = model_1.forward(input)\n",
    "        data_values[T:len(x_batch)+T]= data_values[T:len(x_batch)+T] + prob_vector"
   ]
  },
  {
   "cell_type": "code",
   "execution_count": 45,
   "id": "b3c71a7a-e149-4d82-879f-91335b8e6aa6",
   "metadata": {},
   "outputs": [
    {
     "data": {
      "text/plain": [
       "tensor([[21.0761],\n",
       "        [21.1266],\n",
       "        [21.1250],\n",
       "        [21.3022],\n",
       "        [21.3229],\n",
       "        [21.4589],\n",
       "        [21.4199],\n",
       "        [21.4410],\n",
       "        [21.2933],\n",
       "        [21.1933],\n",
       "        [21.2007],\n",
       "        [21.3042],\n",
       "        [21.4331],\n",
       "        [21.3791],\n",
       "        [21.3810],\n",
       "        [21.3234],\n",
       "        [21.2703],\n",
       "        [21.1931],\n",
       "        [20.9894],\n",
       "        [21.0826]], dtype=torch.float64)"
      ]
     },
     "execution_count": 45,
     "metadata": {},
     "output_type": "execute_result"
    }
   ],
   "source": [
    "data_values[230:250]"
   ]
  },
  {
   "cell_type": "code",
   "execution_count": 46,
   "id": "adca1957-54f9-4544-816c-dd11b140ac43",
   "metadata": {},
   "outputs": [
    {
     "data": {
      "text/plain": [
       "tensor([[21.5705],\n",
       "        [21.4182],\n",
       "        [21.4410],\n",
       "        [21.2933],\n",
       "        [21.1933],\n",
       "        [21.2007],\n",
       "        [21.3042],\n",
       "        [21.4331],\n",
       "        [21.3791],\n",
       "        [21.3810],\n",
       "        [21.3234],\n",
       "        [21.2703],\n",
       "        [21.1931],\n",
       "        [20.9894],\n",
       "        [21.0826],\n",
       "        [21.0455],\n",
       "        [21.1717],\n",
       "        [21.1546],\n",
       "        [21.1080],\n",
       "        [21.2317],\n",
       "        [21.2427],\n",
       "        [21.2589],\n",
       "        [21.0761],\n",
       "        [21.1266],\n",
       "        [21.1250],\n",
       "        [21.3022],\n",
       "        [21.3229],\n",
       "        [21.4589],\n",
       "        [21.4199],\n",
       "        [21.4410]], dtype=torch.float64)"
      ]
     },
     "execution_count": 46,
     "metadata": {},
     "output_type": "execute_result"
    }
   ],
   "source": [
    "data_values[100:130]"
   ]
  },
  {
   "cell_type": "code",
   "execution_count": 47,
   "id": "f0bb3dc1-bc2a-4236-b173-0c1b7b73b0ed",
   "metadata": {},
   "outputs": [
    {
     "data": {
      "text/plain": [
       "tensor([[20.8867],\n",
       "        [20.6668],\n",
       "        [20.9672],\n",
       "        [21.0524],\n",
       "        [21.1809],\n",
       "        [21.1209],\n",
       "        [21.0237],\n",
       "        [20.8220],\n",
       "        [21.1568],\n",
       "        [21.0181],\n",
       "        [20.9894],\n",
       "        [21.0826],\n",
       "        [21.0455],\n",
       "        [21.1717],\n",
       "        [21.1546],\n",
       "        [21.1080],\n",
       "        [21.2317],\n",
       "        [21.2427],\n",
       "        [21.2589],\n",
       "        [21.0761],\n",
       "        [21.1266],\n",
       "        [21.1250],\n",
       "        [21.3022],\n",
       "        [21.3229],\n",
       "        [21.4589],\n",
       "        [21.4199],\n",
       "        [21.4410],\n",
       "        [21.2933],\n",
       "        [21.1933],\n",
       "        [21.2007],\n",
       "        [21.3042],\n",
       "        [21.4331],\n",
       "        [21.3791],\n",
       "        [21.3810],\n",
       "        [21.3234],\n",
       "        [21.2703],\n",
       "        [21.1931],\n",
       "        [20.9894],\n",
       "        [21.0826],\n",
       "        [21.0455],\n",
       "        [21.1717],\n",
       "        [21.1546],\n",
       "        [21.1080],\n",
       "        [21.2317],\n",
       "        [21.2427],\n",
       "        [21.2589],\n",
       "        [21.0761],\n",
       "        [21.1266],\n",
       "        [21.1250],\n",
       "        [21.3022],\n",
       "        [21.3229],\n",
       "        [21.4589],\n",
       "        [21.4199],\n",
       "        [21.4410],\n",
       "        [21.2933],\n",
       "        [21.1933],\n",
       "        [21.2007],\n",
       "        [21.3042],\n",
       "        [21.4331],\n",
       "        [21.3791]], dtype=torch.float64)"
      ]
     },
     "execution_count": 47,
     "metadata": {},
     "output_type": "execute_result"
    }
   ],
   "source": [
    "data_values[400:460]"
   ]
  },
  {
   "cell_type": "code",
   "execution_count": 64,
   "id": "5dcb73a9-eefd-4501-889d-f46dd17020c8",
   "metadata": {},
   "outputs": [
    {
     "data": {
      "text/plain": [
       "tensor([[5.0000e+00, 7.0000e+00, 8.0000e+00, 1.0000e+01, 1.1000e+01, 1.3000e+01,\n",
       "         1.4000e+01, 1.6000e+01, 1.7000e+01, 1.9000e+01, 2.0000e+01, 1.8000e+01,\n",
       "         1.7000e+01, 1.5000e+01, 1.4000e+01, 1.2000e+01, 1.1000e+01, 9.0000e+00,\n",
       "         8.0000e+00, 6.0000e+00],\n",
       "        [7.0000e+00, 8.0000e+00, 1.0000e+01, 1.1000e+01, 1.3000e+01, 1.4000e+01,\n",
       "         1.6000e+01, 1.7000e+01, 1.9000e+01, 2.0000e+01, 1.8000e+01, 1.7000e+01,\n",
       "         1.5000e+01, 1.4000e+01, 1.2000e+01, 1.1000e+01, 9.0000e+00, 8.0000e+00,\n",
       "         6.0000e+00, 5.0000e+00],\n",
       "        [8.0000e+00, 1.0000e+01, 1.1000e+01, 1.3000e+01, 1.4000e+01, 1.6000e+01,\n",
       "         1.7000e+01, 1.9000e+01, 2.0000e+01, 1.8000e+01, 1.7000e+01, 1.5000e+01,\n",
       "         1.4000e+01, 1.2000e+01, 1.1000e+01, 9.0000e+00, 8.0000e+00, 6.0000e+00,\n",
       "         5.0000e+00, 3.0000e+00],\n",
       "        [1.0000e+01, 1.1000e+01, 1.3000e+01, 1.4000e+01, 1.6000e+01, 1.7000e+01,\n",
       "         1.9000e+01, 2.0000e+01, 1.8000e+01, 1.7000e+01, 1.5000e+01, 1.4000e+01,\n",
       "         1.2000e+01, 1.1000e+01, 9.0000e+00, 8.0000e+00, 6.0000e+00, 5.0000e+00,\n",
       "         3.0000e+00, 2.0000e+00],\n",
       "        [1.1000e+01, 1.3000e+01, 1.4000e+01, 1.6000e+01, 1.7000e+01, 1.9000e+01,\n",
       "         2.0000e+01, 1.8000e+01, 1.7000e+01, 1.5000e+01, 1.4000e+01, 1.2000e+01,\n",
       "         1.1000e+01, 9.0000e+00, 8.0000e+00, 6.0000e+00, 5.0000e+00, 3.0000e+00,\n",
       "         2.0000e+00, 0.0000e+00],\n",
       "        [1.3000e+01, 1.4000e+01, 1.6000e+01, 1.7000e+01, 1.9000e+01, 2.0000e+01,\n",
       "         1.8000e+01, 1.7000e+01, 1.5000e+01, 1.4000e+01, 1.2000e+01, 1.1000e+01,\n",
       "         9.0000e+00, 8.0000e+00, 6.0000e+00, 5.0000e+00, 3.0000e+00, 2.0000e+00,\n",
       "         0.0000e+00, 1.0000e+00],\n",
       "        [1.4000e+01, 1.6000e+01, 1.7000e+01, 1.9000e+01, 2.0000e+01, 1.8000e+01,\n",
       "         1.7000e+01, 1.5000e+01, 1.4000e+01, 1.2000e+01, 1.1000e+01, 9.0000e+00,\n",
       "         8.0000e+00, 6.0000e+00, 5.0000e+00, 3.0000e+00, 2.0000e+00, 0.0000e+00,\n",
       "         1.0000e+00, 2.0000e+00],\n",
       "        [1.0000e+04, 1.0000e+04, 1.0000e+04, 1.0000e+04, 1.0000e+04, 1.0000e+04,\n",
       "         1.0000e+04, 1.0000e+04, 1.0000e+04, 1.0000e+04, 1.0000e+04, 1.0000e+04,\n",
       "         1.0000e+04, 1.0000e+04, 1.0000e+04, 1.0000e+04, 1.0000e+04, 1.0000e+04,\n",
       "         1.0000e+04, 1.0000e+04],\n",
       "        [1.0000e+04, 1.0000e+04, 1.0000e+04, 1.0000e+04, 1.0000e+04, 1.0000e+04,\n",
       "         1.0000e+04, 1.0000e+04, 1.0000e+04, 1.0000e+04, 1.0000e+04, 1.0000e+04,\n",
       "         1.0000e+04, 1.0000e+04, 1.0000e+04, 1.0000e+04, 1.0000e+04, 1.0000e+04,\n",
       "         1.0000e+04, 1.0000e+04],\n",
       "        [1.0000e+04, 1.0000e+04, 1.0000e+04, 1.0000e+04, 1.0000e+04, 1.0000e+04,\n",
       "         1.0000e+04, 1.0000e+04, 1.0000e+04, 1.0000e+04, 1.0000e+04, 1.0000e+04,\n",
       "         1.0000e+04, 1.0000e+04, 1.0000e+04, 1.0000e+04, 1.0000e+04, 1.0000e+04,\n",
       "         1.0000e+04, 1.0000e+04]], dtype=torch.float64)"
      ]
     },
     "execution_count": 64,
     "metadata": {},
     "output_type": "execute_result"
    }
   ],
   "source": [
    "x_batch, y_batch = MovingBatch(x_train, y_train, 45,300)\n",
    "x_batch[7:10] = 10000\n",
    "x_batch[0:10]"
   ]
  },
  {
   "cell_type": "code",
   "execution_count": 65,
   "id": "0fd83822-ff17-4911-b3bb-34bea3908a98",
   "metadata": {},
   "outputs": [
    {
     "data": {
      "text/plain": [
       "tensor([[0.4727],\n",
       "        [0.4710],\n",
       "        [0.4664],\n",
       "        [0.4685],\n",
       "        [0.4677],\n",
       "        [0.4705],\n",
       "        [0.4701],\n",
       "        [0.0517],\n",
       "        [0.0515],\n",
       "        [0.0516],\n",
       "        [0.4724],\n",
       "        [0.4684],\n",
       "        [0.4695],\n",
       "        [0.4694],\n",
       "        [0.4734],\n",
       "        [0.4738],\n",
       "        [0.4769],\n",
       "        [0.4760],\n",
       "        [0.4765],\n",
       "        [0.4732],\n",
       "        [0.4710],\n",
       "        [0.4711],\n",
       "        [0.4734],\n",
       "        [0.4763],\n",
       "        [0.4751],\n",
       "        [0.4751],\n",
       "        [0.4739],\n",
       "        [0.4727],\n",
       "        [0.4710],\n",
       "        [0.4664],\n",
       "        [0.4685],\n",
       "        [0.4677],\n",
       "        [0.4705],\n",
       "        [0.4701],\n",
       "        [0.4691],\n",
       "        [0.4718],\n",
       "        [0.4721],\n",
       "        [0.4724],\n",
       "        [0.4684],\n",
       "        [0.4695],\n",
       "        [0.4694],\n",
       "        [0.4734],\n",
       "        [0.4738],\n",
       "        [0.4769],\n",
       "        [0.4760]], grad_fn=<SigmoidBackward0>)"
      ]
     },
     "execution_count": 65,
     "metadata": {},
     "output_type": "execute_result"
    }
   ],
   "source": [
    "input2 = torch.cat((x_batch,y_batch), 1)\n",
    "prob_vector2 = model_1.forward(input2)\n",
    "prob_vector2"
   ]
  },
  {
   "cell_type": "code",
   "execution_count": 54,
   "id": "470e0f57-7272-4b7f-b4cd-4c3a29258381",
   "metadata": {},
   "outputs": [
    {
     "data": {
      "text/plain": [
       "tensor([[0.4774],\n",
       "        [0.4774],\n",
       "        [0.4774],\n",
       "        [0.4774],\n",
       "        [0.4774],\n",
       "        [0.4774],\n",
       "        [0.4774],\n",
       "        [0.4774],\n",
       "        [0.4774],\n",
       "        [0.4774],\n",
       "        [0.4774],\n",
       "        [0.4774],\n",
       "        [0.4774],\n",
       "        [0.4774],\n",
       "        [0.4774],\n",
       "        [0.4774],\n",
       "        [0.4774],\n",
       "        [0.4774],\n",
       "        [0.4774],\n",
       "        [0.4774],\n",
       "        [0.4774],\n",
       "        [0.4774],\n",
       "        [0.4774],\n",
       "        [0.4774],\n",
       "        [0.4774],\n",
       "        [0.4774],\n",
       "        [0.4774],\n",
       "        [0.4774],\n",
       "        [0.4774],\n",
       "        [0.4774],\n",
       "        [0.4774],\n",
       "        [0.4774],\n",
       "        [0.4774],\n",
       "        [0.4774],\n",
       "        [0.4774],\n",
       "        [0.4774],\n",
       "        [0.4774],\n",
       "        [0.4774],\n",
       "        [0.4774],\n",
       "        [0.4774],\n",
       "        [0.4774],\n",
       "        [0.4774],\n",
       "        [0.4774],\n",
       "        [0.4774],\n",
       "        [0.4774]], grad_fn=<SigmoidBackward0>)"
      ]
     },
     "execution_count": 54,
     "metadata": {},
     "output_type": "execute_result"
    }
   ],
   "source": [
    "x_batch2 = torch.ones_like(x_batch)\n",
    "y_batch2 = torch.ones_like(y_batch)\n",
    "input3 = torch.cat((x_batch2,y_batch2), 1)\n",
    "prob_vector3 = model_1.forward(input3)\n",
    "prob_vector3"
   ]
  },
  {
   "cell_type": "code",
   "execution_count": null,
   "id": "eef4bbec-8031-4de0-8651-d4550313bb41",
   "metadata": {},
   "outputs": [],
   "source": []
  }
 ],
 "metadata": {
  "kernelspec": {
   "display_name": "SOIEvent",
   "language": "python",
   "name": "soievent"
  },
  "language_info": {
   "codemirror_mode": {
    "name": "ipython",
    "version": 3
   },
   "file_extension": ".py",
   "mimetype": "text/x-python",
   "name": "python",
   "nbconvert_exporter": "python",
   "pygments_lexer": "ipython3",
   "version": "3.11.3"
  }
 },
 "nbformat": 4,
 "nbformat_minor": 5
}
